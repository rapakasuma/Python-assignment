{
 "cells": [
  {
   "cell_type": "code",
   "execution_count": 4,
   "metadata": {},
   "outputs": [
    {
     "name": "stdout",
     "output_type": "stream",
     "text": [
      "enter n value : 5\n",
      "15\n"
     ]
    }
   ],
   "source": [
    "n=int(input(\"enter n value : \"))\n",
    "sum=0\n",
    "i=0;\n",
    "while(i<=n):\n",
    "    sum+=i\n",
    "    i+=1\n",
    "print(sum)\n",
    "    "
   ]
  },
  {
   "cell_type": "code",
   "execution_count": 15,
   "metadata": {},
   "outputs": [
    {
     "name": "stdout",
     "output_type": "stream",
     "text": [
      "enter a number to check whether the number is prime or not : 2\n",
      "2  is a prime number\n"
     ]
    }
   ],
   "source": [
    "n=int(input(\"enter a number to check whether the number is prime or not : \"))\n",
    "if(n>1):\n",
    "    for i in range(2,n):\n",
    "        if(n%i)==0:\n",
    "            print(n,\" is not prime number\")\n",
    "            break\n",
    "    else:\n",
    "         print(n, \" is a prime number\")\n",
    "else:\n",
    "    print(n,\" is not prime number\")"
   ]
  },
  {
   "cell_type": "code",
   "execution_count": null,
   "metadata": {},
   "outputs": [],
   "source": []
  },
  {
   "cell_type": "code",
   "execution_count": null,
   "metadata": {},
   "outputs": [],
   "source": []
  }
 ],
 "metadata": {
  "kernelspec": {
   "display_name": "Python 3",
   "language": "python",
   "name": "python3"
  },
  "language_info": {
   "codemirror_mode": {
    "name": "ipython",
    "version": 3
   },
   "file_extension": ".py",
   "mimetype": "text/x-python",
   "name": "python",
   "nbconvert_exporter": "python",
   "pygments_lexer": "ipython3",
   "version": "3.7.6"
  }
 },
 "nbformat": 4,
 "nbformat_minor": 4
}
